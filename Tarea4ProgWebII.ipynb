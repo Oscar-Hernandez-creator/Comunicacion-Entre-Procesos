{
  "nbformat": 4,
  "nbformat_minor": 0,
  "metadata": {
    "colab": {
      "provenance": [],
      "authorship_tag": "ABX9TyNu092sSSjxlNC47I6GR6SC",
      "include_colab_link": true
    },
    "kernelspec": {
      "name": "python3",
      "display_name": "Python 3"
    },
    "language_info": {
      "name": "python"
    }
  },
  "cells": [
    {
      "cell_type": "markdown",
      "metadata": {
        "id": "view-in-github",
        "colab_type": "text"
      },
      "source": [
        "<a href=\"https://colab.research.google.com/github/Oscar-Hernandez-creator/Comunicacion-Entre-Procesos/blob/master/Tarea4ProgWebII.ipynb\" target=\"_parent\"><img src=\"https://colab.research.google.com/assets/colab-badge.svg\" alt=\"Open In Colab\"/></a>"
      ]
    },
    {
      "cell_type": "code",
      "execution_count": 3,
      "metadata": {
        "colab": {
          "base_uri": "https://localhost:8080/"
        },
        "id": "xM9CK780GGxa",
        "outputId": "176dcd18-ede6-4518-c407-8114ec027c63"
      },
      "outputs": [
        {
          "output_type": "stream",
          "name": "stdout",
          "text": [
            "Hola Oscar Hernandez\n"
          ]
        }
      ],
      "source": [
        "#Mostrar Nombre\n",
        "Nombre = \"Oscar Hernandez\"\n",
        "print(\"Hola \" + Nombre)"
      ]
    },
    {
      "cell_type": "code",
      "source": [
        "#Preguntar Nombre\n",
        "Nombre = input(\"¿Cual es tu nombre?\")\n",
        "print(\"Hola \"+ Nombre)"
      ],
      "metadata": {
        "colab": {
          "base_uri": "https://localhost:8080/"
        },
        "id": "OGi28g4wAGC-",
        "outputId": "5a850d64-9026-4412-ff74-47db1a35ad62"
      },
      "execution_count": 4,
      "outputs": [
        {
          "output_type": "stream",
          "name": "stdout",
          "text": [
            "¿Cual es tu nombre?Oscar patata\n",
            "Hola Oscar patata\n"
          ]
        }
      ]
    },
    {
      "cell_type": "code",
      "source": [
        "#Suma\n",
        "A = int(input(\"Ingresa el primer numero a sumar\"))\n",
        "B = int(input(\"Ingresa el segundo numero a sumar\"))\n",
        "R = A + B\n",
        "print(f'El resultado es: {R}')"
      ],
      "metadata": {
        "colab": {
          "base_uri": "https://localhost:8080/"
        },
        "id": "3OwhXOXhAy7L",
        "outputId": "39b302a8-fbfe-4b72-a87e-1b81ecae785d"
      },
      "execution_count": 5,
      "outputs": [
        {
          "output_type": "stream",
          "name": "stdout",
          "text": [
            "Ingresa el primer numero a sumar2\n",
            "Ingresa el segundo numero a sumar4\n",
            "El resultado es: 6\n"
          ]
        }
      ]
    },
    {
      "cell_type": "code",
      "source": [
        "from random import randint\n",
        "from IPython.utils.path import random\n",
        "#Adivinar Numero\n",
        "Numg = randint(1, 10)\n",
        "NumA = 0\n",
        "while(Numg != NumA):\n",
        "  NumA = int(input(\"Adivina el número del 1 al 10  \"))\n",
        "  if NumA == Numg:\n",
        "    print(\"Acertaste!\")\n",
        "  else:\n",
        "    print(\"Fallaste, intentalo denuevo\")"
      ],
      "metadata": {
        "colab": {
          "base_uri": "https://localhost:8080/"
        },
        "id": "db8WjIblBfM3",
        "outputId": "82d6cefb-cc17-47ed-91bd-5f3e8d75f84a"
      },
      "execution_count": 10,
      "outputs": [
        {
          "output_type": "stream",
          "name": "stdout",
          "text": [
            "Adivina el número del 1 al 10  10\n",
            "Fallaste, intentalo denuevo\n",
            "Adivina el número del 1 al 10  9\n",
            "Fallaste, intentalo denuevo\n",
            "Adivina el número del 1 al 10  8\n",
            "Fallaste, intentalo denuevo\n",
            "Adivina el número del 1 al 10  7\n",
            "Fallaste, intentalo denuevo\n",
            "Adivina el número del 1 al 10  6\n",
            "Fallaste, intentalo denuevo\n",
            "Adivina el número del 1 al 10  5\n",
            "Fallaste, intentalo denuevo\n",
            "Adivina el número del 1 al 10  4\n",
            "Fallaste, intentalo denuevo\n",
            "Adivina el número del 1 al 10  3\n",
            "Fallaste, intentalo denuevo\n",
            "Adivina el número del 1 al 10  2\n",
            "Fallaste, intentalo denuevo\n",
            "Adivina el número del 1 al 10  1\n",
            "Acertaste!\n"
          ]
        }
      ]
    },
    {
      "cell_type": "code",
      "source": [
        "#And\n",
        "A = int(input(\"A es 1 o 0 \"))\n",
        "B = int(input(\"B es 1 o 0 \"))\n",
        "if A==B:\n",
        "  print(\"Pasa la compuerta And\")\n",
        "else:\n",
        "  print(\"No pasa la compuerta And\")"
      ],
      "metadata": {
        "colab": {
          "base_uri": "https://localhost:8080/"
        },
        "id": "8Yib98SCCT3x",
        "outputId": "153820fc-91f7-4760-c728-c0646be6e982"
      },
      "execution_count": 7,
      "outputs": [
        {
          "output_type": "stream",
          "name": "stdout",
          "text": [
            "A es 1 o 0 1\n",
            "B es 1 o 0 0\n",
            "No pasa la compuerta And\n"
          ]
        }
      ]
    },
    {
      "cell_type": "code",
      "source": [
        "#or\n",
        "A = int(input(\"A es 1 o 0 \"))\n",
        "B = int(input(\"B es 1 o 0 \"))\n",
        "if (A == 1 or B == 1):\n",
        "  print(\"Pasa la compuerta Or\")\n",
        "else:\n",
        "  print(\"No pasa la compuerta Or\")"
      ],
      "metadata": {
        "colab": {
          "base_uri": "https://localhost:8080/"
        },
        "id": "MAqonE4lCYK1",
        "outputId": "8393c185-6894-424d-eaf4-cdd1a0e071de"
      },
      "execution_count": 8,
      "outputs": [
        {
          "output_type": "stream",
          "name": "stdout",
          "text": [
            "A es 1 o 0 1\n",
            "B es 1 o 0 1\n",
            "Pasa la compuerta Or\n"
          ]
        }
      ]
    },
    {
      "cell_type": "code",
      "source": [
        "#not\n",
        "A = int(input(\"A es 1 o 0 \"))\n",
        "if A==1:\n",
        "  print(\"!A = False\")\n",
        "else:\n",
        "  print(\"!A = True\")"
      ],
      "metadata": {
        "colab": {
          "base_uri": "https://localhost:8080/"
        },
        "id": "O8iMyUosDUtm",
        "outputId": "00cdb28f-e2bd-4357-fc8e-2e023942eac2"
      },
      "execution_count": 9,
      "outputs": [
        {
          "output_type": "stream",
          "name": "stdout",
          "text": [
            "A es 1 o 0 0\n",
            "!A = True\n"
          ]
        }
      ]
    }
  ]
}